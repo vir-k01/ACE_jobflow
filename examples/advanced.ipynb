{
 "cells": [
  {
   "cell_type": "markdown",
   "metadata": {},
   "source": [
    "## Disclaimer"
   ]
  },
  {
   "cell_type": "markdown",
   "metadata": {},
   "source": [
    "If you're reading this, I'll assume you've installed and tried running the basic flows in aceflow. This notebook illustrates some of the more \"interesting\" tricks to parameterize ACE potentials. These tricks aren't usually of much use, as the basics notebook covers everything needed to fit a good ACE potential. The contents of this notebook should **only** be tried if the default ACE parametrization doesn't work for your system of interest. Everthing here is once again a wrapper around pacemaker, and a full understanding of what's happening behind the hood can be inferred from the source code of pyace/python-ace. "
   ]
  },
  {
   "cell_type": "markdown",
   "metadata": {},
   "source": [
    "1. Fine-tuning"
   ]
  },
  {
   "cell_type": "code",
   "execution_count": null,
   "metadata": {},
   "outputs": [],
   "source": []
  }
 ],
 "metadata": {
  "language_info": {
   "name": "python"
  },
  "orig_nbformat": 4
 },
 "nbformat": 4,
 "nbformat_minor": 2
}
